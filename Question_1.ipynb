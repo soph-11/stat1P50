{
 "cells": [
  {
   "cell_type": "code",
   "execution_count": 6,
   "id": "a4f1f1da",
   "metadata": {},
   "outputs": [
    {
     "name": "stdout",
     "output_type": "stream",
     "text": [
      "1\n",
      "2\n",
      "6\n",
      "24\n",
      "120\n",
      "720\n",
      "5040\n",
      "40320\n",
      "362880\n",
      "3628800\n",
      "39916800\n"
     ]
    }
   ],
   "source": [
    "valueOfNumber = 1 #the current value of the number\n",
    "for i in range (1,101):\n",
    "    #for each time it iterates through the loop, the value of the number \n",
    "    #updates to its current value multiplied by the number of iteration \n",
    "    valueOfNumber = valueOfNumber * i \n",
    "    #if the value of the number is greater than or equal to 10^8, stop the loop\n",
    "    if(valueOfNumber >= 10**8):       \n",
    "        break\n",
    "    print(valueOfNumber)"
   ]
  }
 ],
 "metadata": {
  "kernelspec": {
   "display_name": "Python 3 (ipykernel)",
   "language": "python",
   "name": "python3"
  },
  "language_info": {
   "codemirror_mode": {
    "name": "ipython",
    "version": 3
   },
   "file_extension": ".py",
   "mimetype": "text/x-python",
   "name": "python",
   "nbconvert_exporter": "python",
   "pygments_lexer": "ipython3",
   "version": "3.11.4"
  }
 },
 "nbformat": 4,
 "nbformat_minor": 5
}
