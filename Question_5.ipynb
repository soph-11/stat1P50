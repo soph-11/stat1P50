{
 "cells": [
  {
   "cell_type": "code",
   "execution_count": 11,
   "id": "51bd4935",
   "metadata": {},
   "outputs": [],
   "source": [
    "#this function calculates the area of a large and small circle, the value is given as a percentage\n",
    "radiusOfCircleX #for user to input radius of circle 1\n",
    "radiusOfCircleY #for user to input radius of circle 2\n",
    "#finding the area of each circle, argument takes in both values\n",
    "def findArea(radiusOfCircleX, radiusOfCircleY):\n",
    "    #finds the area by calculating pi (rounded) by the radius \n",
    "    areaOfCircleX = 3.14159*radiusOfCircleX\n",
    "    areaOfCircleY = 3.14159*radiusOfCircleY\n",
    "    \n",
    "    if(radiusOfCircleX>radiusOfCircleY): #if the radius of cricle y is less than circle x, finds the percentage of how much circle y fits into circle x\n",
    "        percentageCovered = (radiusOfCircleY/radiusOfCircleX)*100\n",
    "    elif(radiusOfCircleX>radiusOfCircleY): #if the radius of cricle x is less than circle y, finds the percentage of how much circle x fits into circle y\n",
    "        percentageCovered = (radiusOfCircleY/radiusOfCircleX)*100\n",
    "    else: #if the radius of both circles are the same, they will fit perfectly \n",
    "        print(\"radius of circles are the same, they fit 100% into each other\")\n",
    "    \n",
    "    return percentage"
   ]
  }
 ],
 "metadata": {
  "kernelspec": {
   "display_name": "Python 3 (ipykernel)",
   "language": "python",
   "name": "python3"
  },
  "language_info": {
   "codemirror_mode": {
    "name": "ipython",
    "version": 3
   },
   "file_extension": ".py",
   "mimetype": "text/x-python",
   "name": "python",
   "nbconvert_exporter": "python",
   "pygments_lexer": "ipython3",
   "version": "3.11.4"
  }
 },
 "nbformat": 4,
 "nbformat_minor": 5
}
