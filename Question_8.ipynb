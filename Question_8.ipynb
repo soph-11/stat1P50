{
 "cells": [
  {
   "cell_type": "code",
   "execution_count": null,
   "id": "b02cf48b",
   "metadata": {},
   "outputs": [],
   "source": [
    "!pip install pandas\n",
    "import pandas as pd #alias to pandas\n",
    "\n",
    "table = {\"A\":[1,2,2,1],\"B\":[3.1,4.2,1.5,6.3],\"C\":[800,150,400,210]} #input given\n",
    "\n",
    "df = pd.DataFrame(table)\n",
    "print(df)"
   ]
  }
 ],
 "metadata": {
  "kernelspec": {
   "display_name": "Python 3 (ipykernel)",
   "language": "python",
   "name": "python3"
  },
  "language_info": {
   "codemirror_mode": {
    "name": "ipython",
    "version": 3
   },
   "file_extension": ".py",
   "mimetype": "text/x-python",
   "name": "python",
   "nbconvert_exporter": "python",
   "pygments_lexer": "ipython3",
   "version": "3.11.4"
  }
 },
 "nbformat": 4,
 "nbformat_minor": 5
}
