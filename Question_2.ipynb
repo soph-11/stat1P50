{
 "cells": [
  {
   "cell_type": "code",
   "execution_count": 33,
   "id": "102e59d6",
   "metadata": {},
   "outputs": [
    {
     "ename": "TypeError",
     "evalue": "'set' object is not subscriptable",
     "output_type": "error",
     "traceback": [
      "\u001b[1;31m---------------------------------------------------------------------------\u001b[0m",
      "\u001b[1;31mTypeError\u001b[0m                                 Traceback (most recent call last)",
      "Cell \u001b[1;32mIn[33], line 10\u001b[0m\n\u001b[0;32m      6\u001b[0m     \u001b[38;5;28;01mreturn\u001b[39;00m dictColour\n\u001b[0;32m      8\u001b[0m listOfColours \u001b[38;5;241m=\u001b[39m {\u001b[38;5;124m\"\u001b[39m\u001b[38;5;124mred\u001b[39m\u001b[38;5;124m\"\u001b[39m,\u001b[38;5;124m\"\u001b[39m\u001b[38;5;124myellow\u001b[39m\u001b[38;5;124m\"\u001b[39m,\u001b[38;5;124m\"\u001b[39m\u001b[38;5;124morange\u001b[39m\u001b[38;5;124m\"\u001b[39m,\u001b[38;5;124m\"\u001b[39m\u001b[38;5;124mgreen\u001b[39m\u001b[38;5;124m\"\u001b[39m,\u001b[38;5;124m\"\u001b[39m\u001b[38;5;124mblue\u001b[39m\u001b[38;5;124m\"\u001b[39m,\u001b[38;5;124m\"\u001b[39m\u001b[38;5;124mpurple\u001b[39m\u001b[38;5;124m\"\u001b[39m}\n\u001b[1;32m---> 10\u001b[0m \u001b[38;5;28mprint\u001b[39m(orderOfTheRainbow(listOfColours))\n",
      "Cell \u001b[1;32mIn[33], line 2\u001b[0m, in \u001b[0;36morderOfTheRainbow\u001b[1;34m(coloursList)\u001b[0m\n\u001b[0;32m      1\u001b[0m \u001b[38;5;28;01mdef\u001b[39;00m \u001b[38;5;21morderOfTheRainbow\u001b[39m(coloursList \u001b[38;5;241m=\u001b[39m []):\n\u001b[1;32m----> 2\u001b[0m     dictColour \u001b[38;5;241m=\u001b[39m {coloursList[\u001b[38;5;241m0\u001b[39m]: \u001b[38;5;28mlen\u001b[39m(colourList[\u001b[38;5;241m0\u001b[39m])}\n\u001b[0;32m      4\u001b[0m     \u001b[38;5;28;01mfor\u001b[39;00m string \u001b[38;5;129;01min\u001b[39;00m coloursList:\n\u001b[0;32m      5\u001b[0m         dictColour[stringlist[i]]\u001b[38;5;241m=\u001b[39m\u001b[38;5;28mlen\u001b[39m(stringlist[i])\n",
      "\u001b[1;31mTypeError\u001b[0m: 'set' object is not subscriptable"
     ]
    }
   ],
   "source": [
    "def orderOfTheRainbow(coloursList = []):\n",
    "    dictColour = {coloursList[0]: len(colourList[0])}\n",
    "    \n",
    "    for string in coloursList:\n",
    "        dictColour[stringlist[i]]=len(stringlist[i])\n",
    "    return dictColour\n",
    "\n",
    "listOfColours = {\"red\",\"yellow\",\"orange\",\"green\",\"blue\",\"purple\"}\n",
    "                \n",
    "print(orderOfTheRainbow(listOfColours))"
   ]
  }
 ],
 "metadata": {
  "kernelspec": {
   "display_name": "Python 3 (ipykernel)",
   "language": "python",
   "name": "python3"
  },
  "language_info": {
   "codemirror_mode": {
    "name": "ipython",
    "version": 3
   },
   "file_extension": ".py",
   "mimetype": "text/x-python",
   "name": "python",
   "nbconvert_exporter": "python",
   "pygments_lexer": "ipython3",
   "version": "3.11.4"
  }
 },
 "nbformat": 4,
 "nbformat_minor": 5
}
