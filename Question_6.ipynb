{
 "cells": [
  {
   "cell_type": "code",
   "execution_count": 9,
   "id": "ab0fbf97",
   "metadata": {},
   "outputs": [],
   "source": [
    "def proportionalElements(numberList =[]):\n",
    "    sortNumbers = sorted(numberList) #sorts the list\n",
    "    numberDictionary ={} #list of numbers in dictionary\n",
    "    countIteration = 0 #keeps count in loop\n",
    "    for i in sortNumbers:\n",
    "         if(sortNumbers[i]> i): #if the value of the key is greater than or equal to the key, break\n",
    "            break\n",
    "        countIteration += 1\n",
    "        numberDictionary = count/len(numberList) #add value to the number dictionary \n",
    "    return numberDictionary #returns dictionary with values\n"
   ]
  }
 ],
 "metadata": {
  "kernelspec": {
   "display_name": "Python 3 (ipykernel)",
   "language": "python",
   "name": "python3"
  },
  "language_info": {
   "codemirror_mode": {
    "name": "ipython",
    "version": 3
   },
   "file_extension": ".py",
   "mimetype": "text/x-python",
   "name": "python",
   "nbconvert_exporter": "python",
   "pygments_lexer": "ipython3",
   "version": "3.11.4"
  }
 },
 "nbformat": 4,
 "nbformat_minor": 5
}
