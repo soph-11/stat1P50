{
 "cells": [
  {
   "cell_type": "code",
   "execution_count": 18,
   "id": "8d2a4b45",
   "metadata": {},
   "outputs": [
    {
     "name": "stdout",
     "output_type": "stream",
     "text": [
      "the list [0.1623557351353364, 0.21851488786264517, 0.2370859967410368, 0.2671775912054073, 0.31173465982915083, 0.33462696587402274, 0.3919872079244219, 0.3920591679512688, 0.47216271272092547, 0.5228576246846693, 0.526993015501118, 0.5890916547146049, 0.6169907752281688, 0.7152025702692489, 0.7668479374089573, 0.8231878572103746, 0.8252379972229504, 0.8257688512635531, 0.8887368996069362, 0.9033531951437613]\n",
      "the matching element to x at index [11]  = 0.5890916547146049\n"
     ]
    }
   ],
   "source": [
    "from random import random\n",
    "\n",
    "l = [random() for i in range(20)] \n",
    "sortedList = sorted(l) #sorting list\n",
    "print(\"the list\", sortedList) #printing out the list\n",
    "\n",
    "x = random()\n",
    "\n",
    "for i in range(0,len(sortedList)): #iterates through sortedList\n",
    "    if(sortedList[i]>=x): #if the value of the element is greater than or equal to the value of x\n",
    "        print(\"the matching element to x at index\", [i], \" =\",sortedList[i])\n",
    "        break; #stop the loop because element is found"
   ]
  }
 ],
 "metadata": {
  "kernelspec": {
   "display_name": "Python 3 (ipykernel)",
   "language": "python",
   "name": "python3"
  },
  "language_info": {
   "codemirror_mode": {
    "name": "ipython",
    "version": 3
   },
   "file_extension": ".py",
   "mimetype": "text/x-python",
   "name": "python",
   "nbconvert_exporter": "python",
   "pygments_lexer": "ipython3",
   "version": "3.11.4"
  }
 },
 "nbformat": 4,
 "nbformat_minor": 5
}
