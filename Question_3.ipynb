{
 "cells": [
  {
   "cell_type": "code",
   "execution_count": 14,
   "id": "b11ccb1c",
   "metadata": {},
   "outputs": [
    {
     "name": "stdout",
     "output_type": "stream",
     "text": [
      "5 ^ 6  =  15625\n",
      "5 ^ 7  =  78125\n",
      "4 ^ 2  =  16\n",
      "3 ^ 6  =  729\n",
      "9 ^ 8  =  43046721\n",
      "1 ^ 3  =  1\n",
      "9 ^ 3  =  729\n",
      "7 ^ 1  =  7\n",
      "5 ^ 4  =  625\n",
      "2 ^ 7  =  128\n",
      "9 ^ 1  =  9\n",
      "9 ^ 3  =  729\n",
      "2 ^ 5  =  32\n"
     ]
    }
   ],
   "source": [
    "#the function power is given the arguments x and y, where x is rasied to the power of y\n",
    "def power(x,y):\n",
    "    resultOfPower = x**y\n",
    "    return resultOfPower\n",
    "    \n",
    "#list of given input\n",
    "listOfNumbers = [[5,6], [5,7], [4,2], [3,6], [9,8], [1,3], [9,3], [7,1], [5,4], [2,7],\n",
    "[9,1], [9,3], [2,5]]\n",
    "\n",
    "#iterates through the values list elements and uses the value at index to calculate the power  \n",
    "for i in listOfNumbers:\n",
    "    print(i[0], \"^\", i[1], \" = \",power(i[0],i[1]))\n",
    "    "
   ]
  }
 ],
 "metadata": {
  "kernelspec": {
   "display_name": "Python 3 (ipykernel)",
   "language": "python",
   "name": "python3"
  },
  "language_info": {
   "codemirror_mode": {
    "name": "ipython",
    "version": 3
   },
   "file_extension": ".py",
   "mimetype": "text/x-python",
   "name": "python",
   "nbconvert_exporter": "python",
   "pygments_lexer": "ipython3",
   "version": "3.11.4"
  }
 },
 "nbformat": 4,
 "nbformat_minor": 5
}
